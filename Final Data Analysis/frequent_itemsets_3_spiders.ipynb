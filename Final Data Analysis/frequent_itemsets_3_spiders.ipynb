{
 "cells": [
  {
   "cell_type": "markdown",
   "metadata": {},
   "source": [
    "In this notebook, I am going to analyze spider prey relation data. \n",
    "3 Spider and 76 prey. "
   ]
  },
  {
   "cell_type": "code",
   "execution_count": 1,
   "metadata": {},
   "outputs": [],
   "source": [
    "import pandas as pd\n",
    "import numpy as np\n",
    "from mlxtend.preprocessing import TransactionEncoder\n",
    "from mlxtend.frequent_patterns import apriori, association_rules, fpgrowth"
   ]
  },
  {
   "cell_type": "code",
   "execution_count": 2,
   "metadata": {},
   "outputs": [
    {
     "data": {
      "text/html": [
       "<div>\n",
       "<style scoped>\n",
       "    .dataframe tbody tr th:only-of-type {\n",
       "        vertical-align: middle;\n",
       "    }\n",
       "\n",
       "    .dataframe tbody tr th {\n",
       "        vertical-align: top;\n",
       "    }\n",
       "\n",
       "    .dataframe thead th {\n",
       "        text-align: right;\n",
       "    }\n",
       "</style>\n",
       "<table border=\"1\" class=\"dataframe\">\n",
       "  <thead>\n",
       "    <tr style=\"text-align: right;\">\n",
       "      <th></th>\n",
       "      <th>Prey-Id</th>\n",
       "      <th>SA Date-Time</th>\n",
       "      <th>Signal Time</th>\n",
       "      <th>Spider-Id</th>\n",
       "      <th>Distance From Spider</th>\n",
       "      <th>Trip No</th>\n",
       "    </tr>\n",
       "  </thead>\n",
       "  <tbody>\n",
       "    <tr>\n",
       "      <th>0</th>\n",
       "      <td>v_bv</td>\n",
       "      <td>2019-01-01 06:19:00</td>\n",
       "      <td>2019-01-01 06:19:00</td>\n",
       "      <td>1.0</td>\n",
       "      <td>7.19</td>\n",
       "      <td>1.0</td>\n",
       "    </tr>\n",
       "    <tr>\n",
       "      <th>1</th>\n",
       "      <td>b_tt_1</td>\n",
       "      <td>2019-01-01 06:38:00</td>\n",
       "      <td>2019-01-01 06:38:00</td>\n",
       "      <td>0.0</td>\n",
       "      <td>3.18</td>\n",
       "      <td>1.0</td>\n",
       "    </tr>\n",
       "    <tr>\n",
       "      <th>2</th>\n",
       "      <td>rd_end_north</td>\n",
       "      <td>2019-01-01 06:42:00</td>\n",
       "      <td>2019-01-01 06:42:00</td>\n",
       "      <td>0.0</td>\n",
       "      <td>7.48</td>\n",
       "      <td>1.0</td>\n",
       "    </tr>\n",
       "    <tr>\n",
       "      <th>3</th>\n",
       "      <td>y_rt</td>\n",
       "      <td>2019-01-01 06:55:00</td>\n",
       "      <td>2019-01-01 06:55:00</td>\n",
       "      <td>2.0</td>\n",
       "      <td>5.34</td>\n",
       "      <td>1.0</td>\n",
       "    </tr>\n",
       "    <tr>\n",
       "      <th>4</th>\n",
       "      <td>b_tt_3</td>\n",
       "      <td>2019-01-01 07:01:00</td>\n",
       "      <td>2019-01-01 07:01:00</td>\n",
       "      <td>2.0</td>\n",
       "      <td>7.72</td>\n",
       "      <td>1.0</td>\n",
       "    </tr>\n",
       "  </tbody>\n",
       "</table>\n",
       "</div>"
      ],
      "text/plain": [
       "        Prey-Id         SA Date-Time          Signal Time  Spider-Id  \\\n",
       "0          v_bv  2019-01-01 06:19:00  2019-01-01 06:19:00        1.0   \n",
       "1        b_tt_1  2019-01-01 06:38:00  2019-01-01 06:38:00        0.0   \n",
       "2  rd_end_north  2019-01-01 06:42:00  2019-01-01 06:42:00        0.0   \n",
       "3          y_rt  2019-01-01 06:55:00  2019-01-01 06:55:00        2.0   \n",
       "4        b_tt_3  2019-01-01 07:01:00  2019-01-01 07:01:00        2.0   \n",
       "\n",
       "   Distance From Spider  Trip No  \n",
       "0                  7.19      1.0  \n",
       "1                  3.18      1.0  \n",
       "2                  7.48      1.0  \n",
       "3                  5.34      1.0  \n",
       "4                  7.72      1.0  "
      ]
     },
     "execution_count": 2,
     "metadata": {},
     "output_type": "execute_result"
    }
   ],
   "source": [
    "df = pd.read_csv('spider_prey_relation_table.csv')\n",
    "df.head()"
   ]
  },
  {
   "cell_type": "markdown",
   "metadata": {},
   "source": [
    "Check for Null values"
   ]
  },
  {
   "cell_type": "code",
   "execution_count": 3,
   "metadata": {},
   "outputs": [
    {
     "data": {
      "text/plain": [
       "Prey-Id                 0\n",
       "SA Date-Time            0\n",
       "Signal Time             0\n",
       "Spider-Id               0\n",
       "Distance From Spider    0\n",
       "Trip No                 0\n",
       "dtype: int64"
      ]
     },
     "execution_count": 3,
     "metadata": {},
     "output_type": "execute_result"
    }
   ],
   "source": [
    "df.isna().sum()"
   ]
  },
  {
   "cell_type": "code",
   "execution_count": 4,
   "metadata": {},
   "outputs": [
    {
     "data": {
      "text/plain": [
       "(27019, 6)"
      ]
     },
     "execution_count": 4,
     "metadata": {},
     "output_type": "execute_result"
    }
   ],
   "source": [
    "df.shape"
   ]
  },
  {
   "cell_type": "code",
   "execution_count": 5,
   "metadata": {},
   "outputs": [
    {
     "data": {
      "text/plain": [
       "76"
      ]
     },
     "execution_count": 5,
     "metadata": {},
     "output_type": "execute_result"
    }
   ],
   "source": [
    "df['Prey-Id'].nunique()"
   ]
  },
  {
   "cell_type": "code",
   "execution_count": 6,
   "metadata": {},
   "outputs": [
    {
     "data": {
      "text/plain": [
       "array(['v_bv', 'b_tt_1', 'rd_end_north', 'y_rt', 'b_tt_3', 'v_end_east',\n",
       "       'o_w_1', 'b_bv', 'rh_end_tt_3', 'y_rh', 'v_end_west',\n",
       "       'nature_end_west', 'w_bw', 'rh_end_north', 'b_rt', 'rc_end_north',\n",
       "       'rh_end_tt_1', 'b_y', 'rh_end_tt_2', 'w_rc', 'y_rs', 'g_w',\n",
       "       'rd_end_south', 'y_gy1', 'w_rs', 'v_rt', 'bstub_w', 'o_gy2',\n",
       "       'rs_end_north', 'v_rc', 'v_rs', 'rd_end_south_dupe', 'w_rt',\n",
       "       'rh_end_south', 'rc_end_south', 'b_rc', 'g_rt', 'park_east',\n",
       "       'o_rh', 'w_gy2', 'o_gy1', 'rt_end_north', 'b_tt_2', 'w_gy1',\n",
       "       'y_gy2', 'b_rs', 'v_rd', 'b_tt_2_dupe', 'v_rh', 'rs_end_south',\n",
       "       'g_rs', 'o_y_tt_end_west', 'b_end_west', 'g_gy1', 'o_tt', 'o_w_2',\n",
       "       'b_tt_3_dupe', 'b_g', 'b_rh', 'rh_end_tt_4', 'b_rd_dupe', 'b_bw',\n",
       "       'b_o', 'y_rc', 'tt_rt', 'g_rc', 'o_rc', 'b_gy2', 'w_tt', 'b_rd',\n",
       "       'rt_end_south', 'o_rs', 'g_gy2', 'b_w', 'o_rt', 'b_v'],\n",
       "      dtype=object)"
      ]
     },
     "execution_count": 6,
     "metadata": {},
     "output_type": "execute_result"
    }
   ],
   "source": [
    "df['Prey-Id'].unique()"
   ]
  },
  {
   "cell_type": "markdown",
   "metadata": {},
   "source": [
    "mlxtend.frequent_patterns, apriori doesn't work with string so I shall map every prey id to a unique integer number. "
   ]
  },
  {
   "cell_type": "code",
   "execution_count": 7,
   "metadata": {},
   "outputs": [],
   "source": [
    "d ={}\n",
    "i =0\n",
    "for v in sorted(df['Prey-Id'].unique()):\n",
    "    d[v] =i\n",
    "    i = i + 1"
   ]
  },
  {
   "cell_type": "code",
   "execution_count": 8,
   "metadata": {},
   "outputs": [],
   "source": [
    "df['Prey-Id'].replace(d, inplace=True)"
   ]
  },
  {
   "cell_type": "code",
   "execution_count": 9,
   "metadata": {},
   "outputs": [
    {
     "data": {
      "text/html": [
       "<div>\n",
       "<style scoped>\n",
       "    .dataframe tbody tr th:only-of-type {\n",
       "        vertical-align: middle;\n",
       "    }\n",
       "\n",
       "    .dataframe tbody tr th {\n",
       "        vertical-align: top;\n",
       "    }\n",
       "\n",
       "    .dataframe thead th {\n",
       "        text-align: right;\n",
       "    }\n",
       "</style>\n",
       "<table border=\"1\" class=\"dataframe\">\n",
       "  <thead>\n",
       "    <tr style=\"text-align: right;\">\n",
       "      <th></th>\n",
       "      <th>Prey-Id</th>\n",
       "      <th>SA Date-Time</th>\n",
       "      <th>Signal Time</th>\n",
       "      <th>Spider-Id</th>\n",
       "      <th>Distance From Spider</th>\n",
       "      <th>Trip No</th>\n",
       "    </tr>\n",
       "  </thead>\n",
       "  <tbody>\n",
       "    <tr>\n",
       "      <th>0</th>\n",
       "      <td>55</td>\n",
       "      <td>2019-01-01 06:19:00</td>\n",
       "      <td>2019-01-01 06:19:00</td>\n",
       "      <td>1.0</td>\n",
       "      <td>7.19</td>\n",
       "      <td>1.0</td>\n",
       "    </tr>\n",
       "    <tr>\n",
       "      <th>1</th>\n",
       "      <td>12</td>\n",
       "      <td>2019-01-01 06:38:00</td>\n",
       "      <td>2019-01-01 06:38:00</td>\n",
       "      <td>0.0</td>\n",
       "      <td>3.18</td>\n",
       "      <td>1.0</td>\n",
       "    </tr>\n",
       "    <tr>\n",
       "      <th>2</th>\n",
       "      <td>41</td>\n",
       "      <td>2019-01-01 06:42:00</td>\n",
       "      <td>2019-01-01 06:42:00</td>\n",
       "      <td>0.0</td>\n",
       "      <td>7.48</td>\n",
       "      <td>1.0</td>\n",
       "    </tr>\n",
       "    <tr>\n",
       "      <th>3</th>\n",
       "      <td>75</td>\n",
       "      <td>2019-01-01 06:55:00</td>\n",
       "      <td>2019-01-01 06:55:00</td>\n",
       "      <td>2.0</td>\n",
       "      <td>5.34</td>\n",
       "      <td>1.0</td>\n",
       "    </tr>\n",
       "    <tr>\n",
       "      <th>4</th>\n",
       "      <td>15</td>\n",
       "      <td>2019-01-01 07:01:00</td>\n",
       "      <td>2019-01-01 07:01:00</td>\n",
       "      <td>2.0</td>\n",
       "      <td>7.72</td>\n",
       "      <td>1.0</td>\n",
       "    </tr>\n",
       "  </tbody>\n",
       "</table>\n",
       "</div>"
      ],
      "text/plain": [
       "   Prey-Id         SA Date-Time          Signal Time  Spider-Id  \\\n",
       "0       55  2019-01-01 06:19:00  2019-01-01 06:19:00        1.0   \n",
       "1       12  2019-01-01 06:38:00  2019-01-01 06:38:00        0.0   \n",
       "2       41  2019-01-01 06:42:00  2019-01-01 06:42:00        0.0   \n",
       "3       75  2019-01-01 06:55:00  2019-01-01 06:55:00        2.0   \n",
       "4       15  2019-01-01 07:01:00  2019-01-01 07:01:00        2.0   \n",
       "\n",
       "   Distance From Spider  Trip No  \n",
       "0                  7.19      1.0  \n",
       "1                  3.18      1.0  \n",
       "2                  7.48      1.0  \n",
       "3                  5.34      1.0  \n",
       "4                  7.72      1.0  "
      ]
     },
     "execution_count": 9,
     "metadata": {},
     "output_type": "execute_result"
    }
   ],
   "source": [
    "df.head()"
   ]
  },
  {
   "cell_type": "code",
   "execution_count": 10,
   "metadata": {},
   "outputs": [
    {
     "data": {
      "text/plain": [
       "19"
      ]
     },
     "execution_count": 10,
     "metadata": {},
     "output_type": "execute_result"
    }
   ],
   "source": [
    "len(df['SA Date-Time'][0])"
   ]
  },
  {
   "cell_type": "code",
   "execution_count": 11,
   "metadata": {},
   "outputs": [],
   "source": [
    "df = df[df['SA Date-Time'].str.len() == 19]"
   ]
  },
  {
   "cell_type": "code",
   "execution_count": 13,
   "metadata": {},
   "outputs": [
    {
     "data": {
      "text/html": [
       "<div>\n",
       "<style scoped>\n",
       "    .dataframe tbody tr th:only-of-type {\n",
       "        vertical-align: middle;\n",
       "    }\n",
       "\n",
       "    .dataframe tbody tr th {\n",
       "        vertical-align: top;\n",
       "    }\n",
       "\n",
       "    .dataframe thead th {\n",
       "        text-align: right;\n",
       "    }\n",
       "</style>\n",
       "<table border=\"1\" class=\"dataframe\">\n",
       "  <thead>\n",
       "    <tr style=\"text-align: right;\">\n",
       "      <th></th>\n",
       "      <th>Prey-Id</th>\n",
       "      <th>SA Date-Time</th>\n",
       "      <th>Spider-Id</th>\n",
       "      <th>Distance From Spider</th>\n",
       "      <th>Trip No</th>\n",
       "    </tr>\n",
       "  </thead>\n",
       "  <tbody>\n",
       "    <tr>\n",
       "      <th>0</th>\n",
       "      <td>55</td>\n",
       "      <td>2019-01-01</td>\n",
       "      <td>1.0</td>\n",
       "      <td>7.19</td>\n",
       "      <td>1.0</td>\n",
       "    </tr>\n",
       "    <tr>\n",
       "      <th>1</th>\n",
       "      <td>12</td>\n",
       "      <td>2019-01-01</td>\n",
       "      <td>0.0</td>\n",
       "      <td>3.18</td>\n",
       "      <td>1.0</td>\n",
       "    </tr>\n",
       "    <tr>\n",
       "      <th>2</th>\n",
       "      <td>41</td>\n",
       "      <td>2019-01-01</td>\n",
       "      <td>0.0</td>\n",
       "      <td>7.48</td>\n",
       "      <td>1.0</td>\n",
       "    </tr>\n",
       "    <tr>\n",
       "      <th>3</th>\n",
       "      <td>75</td>\n",
       "      <td>2019-01-01</td>\n",
       "      <td>2.0</td>\n",
       "      <td>5.34</td>\n",
       "      <td>1.0</td>\n",
       "    </tr>\n",
       "    <tr>\n",
       "      <th>4</th>\n",
       "      <td>15</td>\n",
       "      <td>2019-01-01</td>\n",
       "      <td>2.0</td>\n",
       "      <td>7.72</td>\n",
       "      <td>1.0</td>\n",
       "    </tr>\n",
       "  </tbody>\n",
       "</table>\n",
       "</div>"
      ],
      "text/plain": [
       "   Prey-Id SA Date-Time  Spider-Id  Distance From Spider  Trip No\n",
       "0       55   2019-01-01        1.0                  7.19      1.0\n",
       "1       12   2019-01-01        0.0                  3.18      1.0\n",
       "2       41   2019-01-01        0.0                  7.48      1.0\n",
       "3       75   2019-01-01        2.0                  5.34      1.0\n",
       "4       15   2019-01-01        2.0                  7.72      1.0"
      ]
     },
     "execution_count": 13,
     "metadata": {},
     "output_type": "execute_result"
    }
   ],
   "source": [
    "df['SA Date-Time'] = pd.to_datetime(df['SA Date-Time']).dt.date\n",
    "df.drop(['Signal Time'], inplace=True, axis=1)\n",
    "df.head()"
   ]
  },
  {
   "cell_type": "markdown",
   "metadata": {},
   "source": [
    "Group,  preys  for spider. "
   ]
  },
  {
   "cell_type": "code",
   "execution_count": 14,
   "metadata": {},
   "outputs": [],
   "source": [
    "df =df[['SA Date-Time','Spider-Id', 'Trip No', 'Prey-Id']].groupby(['SA Date-Time','Spider-Id'])['Prey-Id'].apply(list)\n",
    "df =df.reset_index(inplace=False)\n",
    "df = df[df['Prey-Id'].str.len()<13]\n",
    "df['Prey-Id'] = df['Prey-Id'].apply(list)\n",
    "records = df['Prey-Id'].tolist()"
   ]
  },
  {
   "cell_type": "code",
   "execution_count": 15,
   "metadata": {},
   "outputs": [
    {
     "data": {
      "text/plain": [
       "[[61, 38, 5, 30, 4, 38, 4, 8, 41, 47, 14, 72],\n",
       " [15, 44, 26, 39, 23, 55, 21, 41, 73, 47, 2, 25]]"
      ]
     },
     "execution_count": 15,
     "metadata": {},
     "output_type": "execute_result"
    }
   ],
   "source": [
    "records[:2]"
   ]
  },
  {
   "cell_type": "code",
   "execution_count": 16,
   "metadata": {},
   "outputs": [
    {
     "data": {
      "text/html": [
       "<div>\n",
       "<style scoped>\n",
       "    .dataframe tbody tr th:only-of-type {\n",
       "        vertical-align: middle;\n",
       "    }\n",
       "\n",
       "    .dataframe tbody tr th {\n",
       "        vertical-align: top;\n",
       "    }\n",
       "\n",
       "    .dataframe thead th {\n",
       "        text-align: right;\n",
       "    }\n",
       "</style>\n",
       "<table border=\"1\" class=\"dataframe\">\n",
       "  <thead>\n",
       "    <tr style=\"text-align: right;\">\n",
       "      <th></th>\n",
       "      <th>support</th>\n",
       "      <th>itemsets</th>\n",
       "    </tr>\n",
       "  </thead>\n",
       "  <tbody>\n",
       "    <tr>\n",
       "      <th>0</th>\n",
       "      <td>0.205479</td>\n",
       "      <td>(0)</td>\n",
       "    </tr>\n",
       "    <tr>\n",
       "      <th>1</th>\n",
       "      <td>0.027397</td>\n",
       "      <td>(1)</td>\n",
       "    </tr>\n",
       "    <tr>\n",
       "      <th>2</th>\n",
       "      <td>0.136986</td>\n",
       "      <td>(2)</td>\n",
       "    </tr>\n",
       "    <tr>\n",
       "      <th>3</th>\n",
       "      <td>0.136986</td>\n",
       "      <td>(3)</td>\n",
       "    </tr>\n",
       "    <tr>\n",
       "      <th>4</th>\n",
       "      <td>0.315068</td>\n",
       "      <td>(4)</td>\n",
       "    </tr>\n",
       "    <tr>\n",
       "      <th>...</th>\n",
       "      <td>...</td>\n",
       "      <td>...</td>\n",
       "    </tr>\n",
       "    <tr>\n",
       "      <th>113740</th>\n",
       "      <td>0.013699</td>\n",
       "      <td>(67, 4, 8, 42, 21, 55, 24, 25, 27, 29, 30, 31)</td>\n",
       "    </tr>\n",
       "    <tr>\n",
       "      <th>113741</th>\n",
       "      <td>0.013699</td>\n",
       "      <td>(4, 70, 39, 10, 45, 15, 49, 50, 51, 52, 61, 30)</td>\n",
       "    </tr>\n",
       "    <tr>\n",
       "      <th>113742</th>\n",
       "      <td>0.013699</td>\n",
       "      <td>(64, 68, 7, 11, 12, 45, 75, 16, 48, 18, 52, 21)</td>\n",
       "    </tr>\n",
       "    <tr>\n",
       "      <th>113743</th>\n",
       "      <td>0.013699</td>\n",
       "      <td>(32, 34, 66, 39, 7, 11, 16, 19, 21, 23, 25, 60)</td>\n",
       "    </tr>\n",
       "    <tr>\n",
       "      <th>113744</th>\n",
       "      <td>0.013699</td>\n",
       "      <td>(40, 41, 73, 12, 15, 47, 52, 53, 54, 57, 27, 62)</td>\n",
       "    </tr>\n",
       "  </tbody>\n",
       "</table>\n",
       "<p>113745 rows × 2 columns</p>\n",
       "</div>"
      ],
      "text/plain": [
       "         support                                          itemsets\n",
       "0       0.205479                                               (0)\n",
       "1       0.027397                                               (1)\n",
       "2       0.136986                                               (2)\n",
       "3       0.136986                                               (3)\n",
       "4       0.315068                                               (4)\n",
       "...          ...                                               ...\n",
       "113740  0.013699    (67, 4, 8, 42, 21, 55, 24, 25, 27, 29, 30, 31)\n",
       "113741  0.013699   (4, 70, 39, 10, 45, 15, 49, 50, 51, 52, 61, 30)\n",
       "113742  0.013699   (64, 68, 7, 11, 12, 45, 75, 16, 48, 18, 52, 21)\n",
       "113743  0.013699   (32, 34, 66, 39, 7, 11, 16, 19, 21, 23, 25, 60)\n",
       "113744  0.013699  (40, 41, 73, 12, 15, 47, 52, 53, 54, 57, 27, 62)\n",
       "\n",
       "[113745 rows x 2 columns]"
      ]
     },
     "execution_count": 16,
     "metadata": {},
     "output_type": "execute_result"
    }
   ],
   "source": [
    "te = TransactionEncoder()\n",
    "te_ary = te.fit(records).transform(records)\n",
    "dff = pd.DataFrame(te_ary, columns=te.columns_)\n",
    "frequent_itemsets = apriori(dff, min_support=0.01, use_colnames=True)\n",
    "frequent_itemsets"
   ]
  },
  {
   "cell_type": "code",
   "execution_count": null,
   "metadata": {},
   "outputs": [],
   "source": []
  }
 ],
 "metadata": {
  "kernelspec": {
   "display_name": "Python 3",
   "language": "python",
   "name": "python3"
  },
  "language_info": {
   "codemirror_mode": {
    "name": "ipython",
    "version": 3
   },
   "file_extension": ".py",
   "mimetype": "text/x-python",
   "name": "python",
   "nbconvert_exporter": "python",
   "pygments_lexer": "ipython3",
   "version": "3.6.10"
  }
 },
 "nbformat": 4,
 "nbformat_minor": 4
}
